{
 "cells": [
  {
   "cell_type": "code",
   "execution_count": 1,
   "metadata": {},
   "outputs": [
    {
     "data": {
      "text/plain": [
       "'/Users/ninamoore'"
      ]
     },
     "execution_count": 1,
     "metadata": {},
     "output_type": "execute_result"
    }
   ],
   "source": [
    "pwd"
   ]
  },
  {
   "cell_type": "code",
   "execution_count": 2,
   "metadata": {},
   "outputs": [
    {
     "name": "stdout",
     "output_type": "stream",
     "text": [
      "/Users/ninamoore/Downloads\n"
     ]
    }
   ],
   "source": [
    "cd Downloads"
   ]
  },
  {
   "cell_type": "code",
   "execution_count": 3,
   "metadata": {},
   "outputs": [
    {
     "name": "stdout",
     "output_type": "stream",
     "text": [
      "Processing logstash-mv-2017.04-dump.txt...\n",
      "GET 1309634\n",
      "GET, v1/variant 827556\n",
      "GET, v1/query 5506\n",
      "{'no_fields': 812322, 'with_fields': 20740, 'clinvar': 8728, 'cadd': 5149, 'cosmic': 8971, 'cgi': 0, 'civic': 0, 'dbsnp': 4237, 'dbnsfp': 5880, 'docm': 0, 'emv': 3197, 'evs': 0, 'exac': 4298, 'exac_nontcga': 4090, 'geno2mp': 0, 'gnomad_exomes': 0, 'gnomad_genomes': 0, 'grasp': 0, 'gwassnps': 0, 'mutdb': 0, 'snpedia': 0, 'snpeff': 3808, 'all': 64, 'wellderly': 0}\n",
      "Processing logstash-mv-2017.05-dump.txt...\n",
      "GET 1770730\n",
      "GET, v1/variant 536252\n",
      "GET, v1/query 28804\n",
      "{'no_fields': 374998, 'with_fields': 190058, 'clinvar': 19853, 'cadd': 14636, 'cosmic': 5216, 'cgi': 0, 'civic': 0, 'dbsnp': 5354, 'dbnsfp': 5017, 'docm': 0, 'emv': 4589, 'evs': 1, 'exac': 8746, 'exac_nontcga': 4602, 'geno2mp': 0, 'gnomad_exomes': 0, 'gnomad_genomes': 0, 'grasp': 1, 'gwassnps': 0, 'mutdb': 0, 'snpedia': 0, 'snpeff': 160221, 'all': 74, 'wellderly': 1}\n",
      "Processing logstash-mv-2017.06-dump.txt...\n",
      "GET 497177\n",
      "GET, v1/variant 53983\n",
      "GET, v1/query 92756\n",
      "{'no_fields': 43289, 'with_fields': 103450, 'clinvar': 6838, 'cadd': 6609, 'cosmic': 12726, 'cgi': 0, 'civic': 0, 'dbsnp': 7245, 'dbnsfp': 6761, 'docm': 0, 'emv': 6258, 'evs': 25, 'exac': 9729, 'exac_nontcga': 6277, 'geno2mp': 0, 'gnomad_exomes': 0, 'gnomad_genomes': 0, 'grasp': 25, 'gwassnps': 0, 'mutdb': 1, 'snpedia': 0, 'snpeff': 6310, 'all': 125, 'wellderly': 29}\n"
     ]
    }
   ],
   "source": [
    "import json\n",
    "from urllib.parse import urlparse, parse_qs\n",
    "\n",
    "def parse_myvariant_logfile(mv_logfile):\n",
    "    count_get = 0\n",
    "    count_variant = 0\n",
    "    count_query = 0\n",
    "    count_dict = {\n",
    "        \"no_fields\": 0,   # when fields parameter is not specified\n",
    "        \"with_fields\": 0, # when fields parameter is specified\n",
    "        \"clinvar\": 0,\n",
    "        \"cadd\": 0,\n",
    "        \"cosmic\": 0,\n",
    "        \"cgi\": 0,\n",
    "        \"civic\": 0,\n",
    "        \"dbsnp\":0,\n",
    "        \"dbnsfp\":0,\n",
    "        \"docm\": 0,\n",
    "        \"emv\": 0,\n",
    "        \"evs\": 0,\n",
    "        \"exac\": 0,\n",
    "        \"exac_nontcga\": 0,\n",
    "        \"geno2mp\": 0,\n",
    "        \"gnomad_exomes\": 0,\n",
    "        \"gnomad_genomes\": 0,\n",
    "        \"grasp\": 0,\n",
    "        \"gwassnps\": 0,\n",
    "        \"mutdb\": 0,\n",
    "        \"snpedia\": 0,\n",
    "        \"snpeff\": 0,\n",
    "        \"all\": 0,\n",
    "        \"wellderly\": 0,\n",
    "    }\n",
    "    print(\"Processing {}...\".format(mv_logfile))\n",
    "    with open(mv_logfile) as f:\n",
    "        for line in f:\n",
    "            data = json.loads(line)\n",
    "            #if \"@fields\" in data and 'GET /v1/variant/' in data[\"@fields\"][\"request\"] and data[\"@fields\"][\"request_method\"]== \"GET\" or \"@fields\" in data and 'GET /v1/query/' in data[\"@fields\"][\"request\"] and data[\"@fields\"][\"request_method\"]== \"GET\":\n",
    "            if \"@fields\" in data and data[\"@fields\"][\"request_method\"]== \"GET\":\n",
    "                count_get += 1\n",
    "                if 'GET /v1/variant/' in data[\"@fields\"][\"request\"] or \\\n",
    "                   'GET /v1/query/' in data[\"@fields\"][\"request\"]:\n",
    "                    url = data[\"@fields\"][\"request\"]\n",
    "                    url1 = url.split(' ')\n",
    "                    url2 = url1[1]\n",
    "                    o = urlparse(url2)\n",
    "                    d = parse_qs(o.query)\n",
    "                    if 'fields' in d:\n",
    "                        count_dict['with_fields'] += 1\n",
    "                        fields_list = ','.join(d[\"fields\"]).split(',')\n",
    "                        source_list = set([fields.split('.')[0].lower() for fields in fields_list])\n",
    "                        #if 'fields' in d and 'fields' == {}:\n",
    "                        #    count1 += 1\n",
    "                        for source in source_list:\n",
    "                            if source in count_dict:\n",
    "                                count_dict[source] += 1\n",
    "                    else:\n",
    "                        count_dict['no_fields'] += 1\n",
    "            #if \"@fields\" in data and data[\"@fields\"][\"request_method\"]== \"GET\":\n",
    "            #    count_get += 1\n",
    "                if 'GET /v1/variant/' in data[\"@fields\"][\"request\"]:\n",
    "                    count_variant += 1\n",
    "                if 'GET /v1/query/' in data[\"@fields\"][\"request\"]:\n",
    "                    count_query += 1 \n",
    "   \n",
    "    \n",
    "    print(\"GET\", count_get)\n",
    "    print(\"GET, v1/variant\", count_variant)\n",
    "    print(\"GET, v1/query\", count_query)\n",
    "    print(count_dict)\n",
    "    \n",
    "\n",
    "\n",
    "parse_myvariant_logfile('logstash-mv-2017.04-dump.txt')\n",
    "\n",
    "\n",
    "parse_myvariant_logfile('logstash-mv-2017.05-dump.txt')\n",
    "\n",
    "\n",
    "parse_myvariant_logfile('logstash-mv-2017.06-dump.txt')\n"
   ]
  },
  {
   "cell_type": "code",
   "execution_count": null,
   "metadata": {},
   "outputs": [],
   "source": []
  }
 ],
 "metadata": {
  "kernelspec": {
   "display_name": "Python 3",
   "language": "python",
   "name": "python3"
  },
  "language_info": {
   "codemirror_mode": {
    "name": "ipython",
    "version": 3
   },
   "file_extension": ".py",
   "mimetype": "text/x-python",
   "name": "python",
   "nbconvert_exporter": "python",
   "pygments_lexer": "ipython3",
   "version": "3.7.0"
  }
 },
 "nbformat": 4,
 "nbformat_minor": 2
}
