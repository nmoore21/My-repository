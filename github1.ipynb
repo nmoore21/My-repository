{
 "cells": [
  {
   "cell_type": "code",
   "execution_count": null,
   "metadata": {},
   "outputs": [],
   "source": [
    "import json\n",
    "with open('logstash-mv-2017.04-dump.txt','r') as f:\n",
    "    count = 0\n",
    "    counts = 0\n",
    "    count1 = 0\n",
    "    for line in f:\n",
    "        data = json.loads(line)\n",
    "        if \"@fields\" in data and data[\"@fields\"][\"request_method\"]== \"GET\":\n",
    "            count += 1   \n",
    "      \n",
    "        if \"@fields\" in data and '/v1/variant/' in data[\"@fields\"][\"request\"] and data[\"@fields\"][\"request_method\"]== \"GET\":\n",
    "            counts += 1        \n",
    "    \n",
    "        if \"@fields\" in data and '/v1/query/' in data[\"@fields\"][\"request\"] and data[\"@fields\"][\"request_method\"]== \"GET\":\n",
    "            count1 += 1            \n",
    "    print(count); print(counts); print(count1)"
   ]
  }
 ],
 "metadata": {
  "kernelspec": {
   "display_name": "Python 3",
   "language": "python",
   "name": "python3"
  },
  "language_info": {
   "codemirror_mode": {
    "name": "ipython",
    "version": 3
   },
   "file_extension": ".py",
   "mimetype": "text/x-python",
   "name": "python",
   "nbconvert_exporter": "python",
   "pygments_lexer": "ipython3",
   "version": "3.7.0"
  }
 },
 "nbformat": 4,
 "nbformat_minor": 2
}
