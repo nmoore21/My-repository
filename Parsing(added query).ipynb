{
 "cells": [
  {
   "cell_type": "code",
   "execution_count": null,
   "metadata": {},
   "outputs": [],
   "source": [
    "import json\n",
    "with open('logstash-mv-2017.04-dump.txt','r') as f:\n",
    "    for line in f:\n",
    "        data = json.loads(line)\n",
    "        is_variant_get = 'GET /v1/variant/' in data[\"@fields\"][\"request\"]\n",
    "        is_variant_get1 = 'GET /v1/query/' in data[\"@fields\"][\"request\"]\n",
    "\n",
    "        if data[\"@fields\"][\"request_method\"]== \"GET\" and is_variant_get or is_variant_get1:\n",
    "            print(data)"
   ]
  },
  {
   "cell_type": "code",
   "execution_count": null,
   "metadata": {},
   "outputs": [],
   "source": [
    "import json\n",
    "with open('logstash-mv-2017.04-dump.txt','r') as f:\n",
    "    count = 0\n",
    "    counts = 0\n",
    "    count1 = 0\n",
    "    for line in f:\n",
    "        data = json.loads(line)\n",
    "        if \"@fields\" in data and data[\"@fields\"][\"request_method\"]== \"GET\":\n",
    "            count += 1   \n",
    "      \n",
    "        if \"@fields\" in data and '/v1/variant/' in data[\"@fields\"][\"request\"] and data[\"@fields\"][\"request_method\"]== \"GET\":\n",
    "            counts += 1        \n",
    "    \n",
    "        if \"@fields\" in data and '/v1/query/' in data[\"@fields\"][\"request\"] and data[\"@fields\"][\"request_method\"]== \"GET\":\n",
    "            count1 += 1            \n",
    "    print(count); print(counts); print(count1)"
   ]
  },
  {
   "cell_type": "code",
   "execution_count": null,
   "metadata": {},
   "outputs": [],
   "source": [
    "import json\n",
    "from urllib.parse import urlparse, parse_qs\n",
    "from collections import Counter\n",
    "with open('logstash-mv-2017.04-dump.txt','r') as f:\n",
    "    count = 0\n",
    "    for line in f:\n",
    "        data = json.loads(line)\n",
    "        if \"@fields\" in data and 'GET /v1/variant/' in data[\"@fields\"][\"request\"] and data[\"@fields\"][\"request_method\"]== \"GET\":\n",
    "            url = data[\"@fields\"][\"request\"]\n",
    "            url1 = url.split(' ')\n",
    "            url2 = url1[1]\n",
    "            o = urlparse(url2)\n",
    "            d = parse_qs(o.query)\n",
    "            if 'fields' in d:\n",
    "                fields_list = ','.join(d[\"fields\"]).split(',')\n",
    "                print(fields_list)\n",
    "                count += 1"
   ]
  },
  {
   "cell_type": "code",
   "execution_count": null,
   "metadata": {},
   "outputs": [],
   "source": [
    "import json\n",
    "from urllib.parse import urlparse, parse_qs\n",
    "from collections import Counter\n",
    "with open('logstash-mv-2017.04-dump.txt','r') as f:\n",
    "    count = 0\n",
    "    count_dict = {\n",
    "        \"clinvar\": 0,\n",
    "        \"cadd\": 0,\n",
    "        \"cosmic\": 0,\n",
    "        \"dbsnp\":0,\n",
    "        \"dbnsfp\":0,\n",
    "        \"emv\": 0,\n",
    "        \"exac\": 0,\n",
    "        \"snpeff\": 0,\n",
    "    }\n",
    "    for line in f:\n",
    "        data = json.loads(line)\n",
    "        if \"@fields\" in data and 'GET /v1/variant/' in data[\"@fields\"][\"request\"] and data[\"@fields\"][\"request_method\"]== \"GET\":\n",
    "            url = data[\"@fields\"][\"request\"]\n",
    "            url1 = url.split(' ')\n",
    "            url2 = url1[1]\n",
    "            o = urlparse(url2)\n",
    "            d = parse_qs(o.query)\n",
    "            if 'fields' in d:\n",
    "                fields_list = ','.join(d[\"fields\"]).split(',')\n",
    "                print(fields_list)\n",
    "                count += 1\n",
    "                source_list = set([fields.split('.')[0].lower() for fields in fields_list])\n",
    "                for source in source_list:\n",
    "                    if source in count_dict:\n",
    "                        count_dict[source] += 1\n",
    "        if \"@fields\" in data and 'GET /v1/query/' in data[\"@fields\"][\"request\"] and data[\"@fields\"][\"request_method\"]== \"GET\":\n",
    "            url = data[\"@fields\"][\"request\"]\n",
    "            url1 = url.split(' ')\n",
    "            url2 = url1[1]\n",
    "            o = urlparse(url2)\n",
    "            d = parse_qs(o.query)\n",
    "            if 'fields' in d:\n",
    "                fields_list = ','.join(d[\"fields\"]).split(',')\n",
    "                print(fields_list)\n",
    "                count += 1\n",
    "                source_list = set([fields.split('.')[0].lower() for fields in fields_list])\n",
    "                for source in source_list:\n",
    "                    if source in count_dict:\n",
    "                        count_dict[source] += 1\n",
    "\n",
    "    print(count_dict)"
   ]
  }
 ],
 "metadata": {
  "kernelspec": {
   "display_name": "Python 3",
   "language": "python",
   "name": "python3"
  },
  "language_info": {
   "codemirror_mode": {
    "name": "ipython",
    "version": 3
   },
   "file_extension": ".py",
   "mimetype": "text/x-python",
   "name": "python",
   "nbconvert_exporter": "python",
   "pygments_lexer": "ipython3",
   "version": "3.7.0"
  }
 },
 "nbformat": 4,
 "nbformat_minor": 2
}
